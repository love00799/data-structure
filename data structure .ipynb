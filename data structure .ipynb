{
 "cells": [
  {
   "cell_type": "code",
   "execution_count": null,
   "id": "46df386e-3065-4112-bdaa-7355b228ef2a",
   "metadata": {},
   "outputs": [],
   "source": [
    "# Explain the difference between mutable and immutable data types with examples\n",
    "Mutable types can be changed after creation. Example: list, dict, set\n",
    "my_list = [1, 2, 3]\n",
    "my_list[0] = 10  # allowed\n",
    "Immutable types cannot be changed after creation. Example: tuple, str, int\n",
    "my_str = \"hello\"\n",
    "my_str[0] = 'H'  # error\n"
   ]
  },
  {
   "cell_type": "code",
   "execution_count": null,
   "id": "f86c0725-6d68-4135-ad01-2ead8e3986fd",
   "metadata": {},
   "outputs": [],
   "source": [
    "#What are data structures, and why are they important?\n",
    "Data structures are ways of organizing and storing data so that it can be accessed and modified efficiently. They are crucial because they allow programs to manage data effectively, optimize performance, and support various algorithms like searching, sorting, and indexing."
   ]
  },
  {
   "cell_type": "code",
   "execution_count": null,
   "id": "3e70aea7-8d2f-4fcb-a4ba-0a59666c48b2",
   "metadata": {},
   "outputs": [],
   "source": [
    "#What are the main differences between lists and tuples in Python?\n",
    "Lists are mutable, slower, and used for dynamic collections.\n",
    "Tuples are immutable, faster, and used when data shouldn't change.\n",
    "my_list = [1, 2, 3]\n",
    "my_tuple = (1, 2, 3)"
   ]
  },
  {
   "cell_type": "code",
   "execution_count": null,
   "id": "78e3e516-faf2-42ee-844a-e7684687cfa0",
   "metadata": {},
   "outputs": [],
   "source": [
    "#Describe how dictionaries store data\n",
    "Dictionaries use key-value pairs. Under the hood, they use hash tables to allow fast lookup.\n",
    "my_dict = {\"name\": \"Alice\", \"age\": 30}"
   ]
  },
  {
   "cell_type": "code",
   "execution_count": null,
   "id": "81d4689d-82ca-4b68-94ed-719823c4cfed",
   "metadata": {},
   "outputs": [],
   "source": [
    "#Why might you use a set instead of a list in Python?\n",
    "Sets automatically remove duplicates and offer faster membership testing (in checks) because they’re implemented as hash tables"
   ]
  },
  {
   "cell_type": "code",
   "execution_count": null,
   "id": "3d110ac7-2769-4b4d-81b5-f35646565cef",
   "metadata": {},
   "outputs": [],
   "source": [
    "#What is a string in Python, and how is it different from a list?\n",
    "A string is an immutable sequence of characters, while a list is a mutable sequence of items. You can't change a string in place, but you can with a list.\n",
    "\n"
   ]
  },
  {
   "cell_type": "code",
   "execution_count": null,
   "id": "d8694d0e-28ab-4148-9787-571ad32132cd",
   "metadata": {},
   "outputs": [],
   "source": [
    "#How do tuples ensure data integrity in Python?\n",
    "Because tuples are immutable, their content can't be changed accidentally. This makes them ideal for constants or fixed collections of values."
   ]
  },
  {
   "cell_type": "code",
   "execution_count": null,
   "id": "6a44aef9-363f-4e30-932c-881652208307",
   "metadata": {},
   "outputs": [],
   "source": [
    "#What is a hash table, and how does it relate to dictionaries in Python?\n",
    "A hash table maps keys to values using a hash function. Python dictionaries use this structure to provide average constant time access to elements."
   ]
  },
  {
   "cell_type": "code",
   "execution_count": null,
   "id": "3ecb4840-7831-4eea-9287-c7d67269dcc9",
   "metadata": {},
   "outputs": [],
   "source": [
    "#Can lists contain different data types in Python?\n",
    "Yes, Python lists are heterogeneous:\n",
    "my_list = [1, \"hello\", 3.14, True]"
   ]
  },
  {
   "cell_type": "code",
   "execution_count": null,
   "id": "2e8567bd-a686-4f06-9fc4-305ba172d1b9",
   "metadata": {},
   "outputs": [],
   "source": [
    "#Explain why strings are immutable in Python\n",
    "Immutability:\n",
    "\n",
    "Saves memory when multiple copies of the same string exist.\n",
    "\n",
    "Makes strings hashable (can be used as dict keys).\n",
    "\n",
    "Improves performance and safety in multi-threaded environments."
   ]
  },
  {
   "cell_type": "code",
   "execution_count": null,
   "id": "b961d90a-7adc-41b6-a7e4-ae3436ce27de",
   "metadata": {},
   "outputs": [],
   "source": [
    "#What advantages do dictionaries offer over lists for certain tasks?\n",
    "Fast lookups via keys.\n",
    "\n",
    "Clear associations between keys and values.\n",
    "\n",
    "More efficient for data mapping tasks."
   ]
  },
  {
   "cell_type": "code",
   "execution_count": null,
   "id": "c484dbc2-63b1-4d2a-abbb-7665efbe9e6a",
   "metadata": {},
   "outputs": [],
   "source": [
    "#Describe a scenario where using a tuple would be preferable over a list\n",
    "When returning multiple values from a function or using as a key in a dictionary (requires immutability)."
   ]
  },
  {
   "cell_type": "code",
   "execution_count": null,
   "id": "36d5e0ac-7028-4916-83d6-1674937b8f6e",
   "metadata": {},
   "outputs": [],
   "source": [
    "#How do sets handle duplicate values in Python?\n",
    "Sets automatically discard duplicates:\n",
    "set([1, 2, 2, 3])  # Result: {1, 2, 3}"
   ]
  },
  {
   "cell_type": "code",
   "execution_count": null,
   "id": "6489c8c5-c9a1-4f1e-b919-4bc89b2516d9",
   "metadata": {},
   "outputs": [],
   "source": [
    "#How does the “in” keyword work differently for lists and dictionaries?\n",
    "In a list, it checks for the presence of a value.\n",
    "\n",
    "In a dictionary, it checks for the presence of a key."
   ]
  },
  {
   "cell_type": "code",
   "execution_count": null,
   "id": "3c1f622e-9bfb-424a-a8b2-77b0fd6b8a5d",
   "metadata": {},
   "outputs": [],
   "source": [
    "#Can you modify the elements of a tuple? Explain why or why not\n",
    "No. Tuples are immutable, so their contents can't be changed after creation."
   ]
  },
  {
   "cell_type": "code",
   "execution_count": null,
   "id": "b96ff600-4267-44d8-a3e6-272107e995f9",
   "metadata": {},
   "outputs": [],
   "source": [
    "#What is a nested dictionary, and give an example of its use case\n",
    "A nested dictionary is a dictionary where values are also dictionaries. Example: storing user data\n",
    "users = {\n",
    "  \"alice\": {\"age\": 30, \"email\": \"alice@example.com\"},\n",
    "  \"bob\": {\"age\": 25, \"email\": \"bob@example.com\"}\n",
    "}"
   ]
  },
  {
   "cell_type": "code",
   "execution_count": null,
   "id": "b6e049d7-9efa-4fe0-9bb9-c88d48181435",
   "metadata": {},
   "outputs": [],
   "source": [
    "#Describe the time complexity of accessing elements in a dictionary\n",
    "Average case: O(1) – constant time\n",
    "Worst case (rare): O(n) – if many hash collisions occur\n",
    "\n"
   ]
  },
  {
   "cell_type": "code",
   "execution_count": null,
   "id": "83491647-fcef-4d3d-a817-7d09b69439eb",
   "metadata": {},
   "outputs": [],
   "source": [
    "#In what situations are lists preferred over dictionaries?\n",
    "When order matters (pre-Python 3.7).\n",
    "\n",
    "When you only need to store a simple sequence.\n",
    "\n",
    "When no key-value association is needed"
   ]
  },
  {
   "cell_type": "code",
   "execution_count": null,
   "id": "568bc499-036f-43b8-b05b-01f97b024a93",
   "metadata": {},
   "outputs": [],
   "source": [
    "#Why are dictionaries considered unordered, and how does that affect data retrieval?\n",
    "Before Python 3.7, dictionaries didn’t preserve insertion order. Now they do, but they're still designed for fast key access, not sequence-based operations.\n",
    "\n"
   ]
  },
  {
   "cell_type": "code",
   "execution_count": null,
   "id": "50fe0fc5-5adb-4b74-87bf-91dcf4c0f2c8",
   "metadata": {},
   "outputs": [],
   "source": [
    "#Explain the difference between a list and a dictionary in terms of data retrieval.\n",
    "List: Access by index (e.g., my_list[0])\n",
    "\n",
    "Dictionary: Access by key (e.g., my_dict['name'])\n",
    "\n",
    "Dictionaries are faster for lookups with known keys."
   ]
  },
  {
   "cell_type": "code",
   "execution_count": 50,
   "id": "a7c3399f-f4c6-476d-8efb-bd8e3a5b4c68",
   "metadata": {},
   "outputs": [
    {
     "name": "stdout",
     "output_type": "stream",
     "text": [
      "Prince\n"
     ]
    }
   ],
   "source": [
    "#Create a string with your name and print it\n",
    "name = \"Prince\"\n",
    "print(name)"
   ]
  },
  {
   "cell_type": "code",
   "execution_count": 52,
   "id": "48ba417c-94c9-40d5-8f2f-dd23416f381d",
   "metadata": {},
   "outputs": [
    {
     "name": "stdout",
     "output_type": "stream",
     "text": [
      "11\n"
     ]
    }
   ],
   "source": [
    "#Find the length of the string \"Hello World\"\n",
    "s = \"Hello World\"\n",
    "print(len(s))"
   ]
  },
  {
   "cell_type": "code",
   "execution_count": 54,
   "id": "089f3218-8d75-42a9-a23e-fc8e5c9544bc",
   "metadata": {},
   "outputs": [
    {
     "name": "stdout",
     "output_type": "stream",
     "text": [
      "Pyt\n"
     ]
    }
   ],
   "source": [
    "#Slice the first 3 characters from the string \"Python Programming\"\n",
    "text = \"Python Programming\"\n",
    "print(text[:3])"
   ]
  },
  {
   "cell_type": "code",
   "execution_count": 56,
   "id": "828f945d-3abb-443c-8551-176a1308f74b",
   "metadata": {},
   "outputs": [
    {
     "name": "stdout",
     "output_type": "stream",
     "text": [
      "HELLO\n"
     ]
    }
   ],
   "source": [
    "#Convert the string \"hello\" to uppercase\n",
    "word = \"hello\"\n",
    "print(word.upper())"
   ]
  },
  {
   "cell_type": "code",
   "execution_count": 58,
   "id": "ffbc1177-ef1f-4808-8fab-2675dc6e1cee",
   "metadata": {},
   "outputs": [
    {
     "name": "stdout",
     "output_type": "stream",
     "text": [
      "I like orange\n"
     ]
    }
   ],
   "source": [
    "#Replace \"apple\" with \"orange\" in \"I like apple\"\n",
    "sentence = \"I like apple\"\n",
    "print(sentence.replace(\"apple\", \"orange\"))"
   ]
  },
  {
   "cell_type": "code",
   "execution_count": 60,
   "id": "57a70204-3c09-4124-b2e8-e647b64d8401",
   "metadata": {},
   "outputs": [
    {
     "name": "stdout",
     "output_type": "stream",
     "text": [
      "[1, 2, 3, 4, 5]\n"
     ]
    }
   ],
   "source": [
    "#Create a list with numbers 1 to 5 and print it\n",
    "\n",
    "numbers = [1, 2, 3, 4, 5]\n",
    "print(numbers)"
   ]
  },
  {
   "cell_type": "code",
   "execution_count": 62,
   "id": "0ad19dea-c26b-442c-9fe7-13f388b92f80",
   "metadata": {},
   "outputs": [
    {
     "name": "stdout",
     "output_type": "stream",
     "text": [
      "[1, 2, 3, 4, 10]\n"
     ]
    }
   ],
   "source": [
    "#Append 10 to the list [1, 2, 3, 4]\n",
    "\n",
    "my_list = [1, 2, 3, 4]\n",
    "my_list.append(10)\n",
    "print(my_list)"
   ]
  },
  {
   "cell_type": "code",
   "execution_count": 64,
   "id": "de204d3a-f3eb-4ceb-917f-6a94774ee4c3",
   "metadata": {},
   "outputs": [
    {
     "name": "stdout",
     "output_type": "stream",
     "text": [
      "[1, 2, 4, 5]\n"
     ]
    }
   ],
   "source": [
    "#Remove the number 3 from the list [1, 2, 3, 4, 5]\n",
    "\n",
    "\n",
    "my_list = [1, 2, 3, 4, 5]\n",
    "my_list.remove(3)\n",
    "print(my_list)"
   ]
  },
  {
   "cell_type": "code",
   "execution_count": 66,
   "id": "ad49d502-3918-43a9-bde1-0fb236eb436a",
   "metadata": {},
   "outputs": [
    {
     "name": "stdout",
     "output_type": "stream",
     "text": [
      "b\n"
     ]
    }
   ],
   "source": [
    "#Access the second element in ['a', 'b', 'c', 'd']\n",
    "letters = ['a', 'b', 'c', 'd']\n",
    "print(letters[1])"
   ]
  },
  {
   "cell_type": "code",
   "execution_count": 68,
   "id": "c2710278-1c92-48dd-8838-993a97d9d152",
   "metadata": {},
   "outputs": [
    {
     "name": "stdout",
     "output_type": "stream",
     "text": [
      "[50, 40, 30, 20, 10]\n"
     ]
    }
   ],
   "source": [
    "#Reverse the list [10, 20, 30, 40, 50]\n",
    "\n",
    "lst = [10, 20, 30, 40, 50]\n",
    "lst.reverse()\n",
    "print(lst)"
   ]
  },
  {
   "cell_type": "code",
   "execution_count": 70,
   "id": "27582de2-9fbe-4f7f-92ed-8dda6465c8c8",
   "metadata": {},
   "outputs": [
    {
     "name": "stdout",
     "output_type": "stream",
     "text": [
      "(100, 200, 300)\n"
     ]
    }
   ],
   "source": [
    "#Create a tuple (100, 200, 300) and print it\n",
    "\n",
    "t = (100, 200, 300)\n",
    "print(t)"
   ]
  },
  {
   "cell_type": "code",
   "execution_count": 72,
   "id": "5ab2e2ee-5074-4db6-901d-f0564a1fd8b6",
   "metadata": {},
   "outputs": [
    {
     "name": "stdout",
     "output_type": "stream",
     "text": [
      "blue\n"
     ]
    }
   ],
   "source": [
    "#Access the second-to-last element of the tuple\n",
    "colors = ('red', 'green', 'blue', 'yellow')\n",
    "print(colors[-2])"
   ]
  },
  {
   "cell_type": "code",
   "execution_count": 74,
   "id": "9cecd420-739a-4506-9de3-d0d0f2fd3308",
   "metadata": {},
   "outputs": [
    {
     "name": "stdout",
     "output_type": "stream",
     "text": [
      "5\n"
     ]
    }
   ],
   "source": [
    "#Find the minimum in (10, 20, 5, 15)\n",
    "\n",
    "nums = (10, 20, 5, 15)\n",
    "print(min(nums))"
   ]
  },
  {
   "cell_type": "code",
   "execution_count": 76,
   "id": "51912690-5b36-4230-957e-1588909ab95e",
   "metadata": {},
   "outputs": [
    {
     "name": "stdout",
     "output_type": "stream",
     "text": [
      "1\n"
     ]
    }
   ],
   "source": [
    "#Find the index of \"cat\" in ('dog', 'cat', 'rabbit')\n",
    "\n",
    "\n",
    "animals = ('dog', 'cat', 'rabbit')\n",
    "print(animals.index('cat'))"
   ]
  },
  {
   "cell_type": "code",
   "execution_count": 78,
   "id": "ad69fb66-42f4-44c0-8cbb-11f570c0918e",
   "metadata": {},
   "outputs": [
    {
     "name": "stdout",
     "output_type": "stream",
     "text": [
      "False\n"
     ]
    }
   ],
   "source": [
    "#Check if \"kiwi\" is in a tuple of fruits\n",
    "\n",
    "fruits = ('apple', 'banana', 'cherry')\n",
    "print(\"kiwi\" in fruits)"
   ]
  },
  {
   "cell_type": "code",
   "execution_count": 80,
   "id": "2804d4b4-41cf-4d55-8c87-20e490fb3880",
   "metadata": {},
   "outputs": [
    {
     "name": "stdout",
     "output_type": "stream",
     "text": [
      "{'b', 'a', 'c'}\n"
     ]
    }
   ],
   "source": [
    "#Create a set {'a', 'b', 'c'} and print it\n",
    "s = {'a', 'b', 'c'}\n",
    "print(s)"
   ]
  },
  {
   "cell_type": "code",
   "execution_count": 82,
   "id": "f9aa2aa0-ea4e-4e0a-9e6a-b1c57722ad05",
   "metadata": {},
   "outputs": [
    {
     "name": "stdout",
     "output_type": "stream",
     "text": [
      "set()\n"
     ]
    }
   ],
   "source": [
    "#Clear all elements from {1, 2, 3, 4, 5}\n",
    "\n",
    "s = {1, 2, 3, 4, 5}\n",
    "s.clear()\n",
    "print(s)"
   ]
  },
  {
   "cell_type": "code",
   "execution_count": 84,
   "id": "a0143155-bdd4-4d1e-922d-79975009da0f",
   "metadata": {},
   "outputs": [
    {
     "name": "stdout",
     "output_type": "stream",
     "text": [
      "{1, 2, 3}\n"
     ]
    }
   ],
   "source": [
    "#Remove 4 from the set {1, 2, 3, 4}\n",
    "\n",
    "s = {1, 2, 3, 4}\n",
    "s.remove(4)\n",
    "print(s)"
   ]
  },
  {
   "cell_type": "code",
   "execution_count": 86,
   "id": "02a1713c-6728-44bf-8021-b0c7305d0629",
   "metadata": {},
   "outputs": [
    {
     "name": "stdout",
     "output_type": "stream",
     "text": [
      "{1, 2, 3, 4, 5}\n"
     ]
    }
   ],
   "source": [
    "#Union of {1, 2, 3} and {3, 4, 5}\n",
    "\n",
    "a = {1, 2, 3}\n",
    "b = {3, 4, 5}\n",
    "print(a.union(b))"
   ]
  },
  {
   "cell_type": "code",
   "execution_count": 88,
   "id": "d1c2cdb3-9580-49d4-891b-163b4078040b",
   "metadata": {},
   "outputs": [
    {
     "name": "stdout",
     "output_type": "stream",
     "text": [
      "{2, 3}\n"
     ]
    }
   ],
   "source": [
    "#Intersection of {1, 2, 3} and {2, 3, 4}\n",
    "\n",
    "\n",
    "a = {1, 2, 3}\n",
    "b = {2, 3, 4}\n",
    "print(a.intersection(b))"
   ]
  },
  {
   "cell_type": "code",
   "execution_count": 90,
   "id": "ba78c540-ba08-4646-80e5-9778042604d7",
   "metadata": {},
   "outputs": [
    {
     "name": "stdout",
     "output_type": "stream",
     "text": [
      "{'name': 'Alice', 'age': 25, 'city': 'New York'}\n"
     ]
    }
   ],
   "source": [
    "#Create a dictionary with keys name, age, city\n",
    "\n",
    "\n",
    "person = {\"name\": \"Alice\", \"age\": 25, \"city\": \"New York\"}\n",
    "print(person)"
   ]
  },
  {
   "cell_type": "code",
   "execution_count": 92,
   "id": "94510ce0-a6b9-492a-a050-2655f6f9ccf7",
   "metadata": {},
   "outputs": [
    {
     "name": "stdout",
     "output_type": "stream",
     "text": [
      "{'name': 'John', 'age': 25, 'country': 'USA'}\n"
     ]
    }
   ],
   "source": [
    "#Add \"country\": \"USA\" to {'name': 'John', 'age': 25}\n",
    "\n",
    "person = {'name': 'John', 'age': 25}\n",
    "person['country'] = \"USA\"\n",
    "print(person)"
   ]
  },
  {
   "cell_type": "code",
   "execution_count": 94,
   "id": "399fca54-c3fa-4277-a92c-da4e96374a99",
   "metadata": {},
   "outputs": [
    {
     "name": "stdout",
     "output_type": "stream",
     "text": [
      "Alice\n"
     ]
    }
   ],
   "source": [
    "#Access the value of \"name\" from {'name': 'Alice', 'age': 30}\n",
    "\n",
    "person = {'name': 'Alice', 'age': 30}\n",
    "print(person['name'])"
   ]
  },
  {
   "cell_type": "code",
   "execution_count": 96,
   "id": "d8409bba-d8dc-4ca3-b6c3-4cfd456a3424",
   "metadata": {},
   "outputs": [
    {
     "name": "stdout",
     "output_type": "stream",
     "text": [
      "{'name': 'Bob', 'city': 'New York'}\n"
     ]
    }
   ],
   "source": [
    "#Remove the key \"age\" from {'name': 'Bob', 'age': 22, 'city': 'New York'}\n",
    "\n",
    "person = {'name': 'Bob', 'age': 22, 'city': 'New York'}\n",
    "del person['age']\n",
    "print(person)"
   ]
  },
  {
   "cell_type": "code",
   "execution_count": 98,
   "id": "dc137daf-754e-4d3d-8585-3a67036a45b4",
   "metadata": {},
   "outputs": [
    {
     "name": "stdout",
     "output_type": "stream",
     "text": [
      "True\n"
     ]
    }
   ],
   "source": [
    "#Check if \"city\" exists in {'name': 'Alice', 'city': 'Paris'}\n",
    "\n",
    "person = {'name': 'Alice', 'city': 'Paris'}\n",
    "print(\"city\" in person)"
   ]
  },
  {
   "cell_type": "code",
   "execution_count": 100,
   "id": "03bea56b-3343-4535-9741-604e151bc436",
   "metadata": {},
   "outputs": [
    {
     "name": "stdout",
     "output_type": "stream",
     "text": [
      "[1, 2, 3] (4, 5, 6) {'a': 7, 'b': 8}\n"
     ]
    }
   ],
   "source": [
    "#Create a list, tuple, and dictionary and print them\n",
    "\n",
    "my_list = [1, 2, 3]\n",
    "my_tuple = (4, 5, 6)\n",
    "my_dict = {\"a\": 7, \"b\": 8}\n",
    "print(my_list, my_tuple, my_dict)"
   ]
  },
  {
   "cell_type": "code",
   "execution_count": 102,
   "id": "2558c5ed-991b-4187-9b3a-ae980b086e9f",
   "metadata": {},
   "outputs": [
    {
     "name": "stdout",
     "output_type": "stream",
     "text": [
      "[18, 20, 23, 69, 99]\n"
     ]
    }
   ],
   "source": [
    "#List of 5 random numbers between 1–100, sort and print\n",
    "\n",
    "\n",
    "import random\n",
    "numbers = random.sample(range(1, 101), 5)\n",
    "numbers.sort()\n",
    "print(numbers)"
   ]
  },
  {
   "cell_type": "code",
   "execution_count": 104,
   "id": "07d74a8b-14d8-4757-a154-b408ad0854d2",
   "metadata": {},
   "outputs": [
    {
     "name": "stdout",
     "output_type": "stream",
     "text": [
      "date\n"
     ]
    }
   ],
   "source": [
    "#Create a list with strings and print the third index\n",
    "\n",
    "\n",
    "words = [\"apple\", \"banana\", \"cherry\", \"date\", \"fig\"]\n",
    "print(words[3])"
   ]
  },
  {
   "cell_type": "code",
   "execution_count": 106,
   "id": "66ee8364-ebf8-4f36-9728-d1c406f7f9d0",
   "metadata": {},
   "outputs": [
    {
     "name": "stdout",
     "output_type": "stream",
     "text": [
      "{'x': 1, 'y': 3, 'z': 4}\n"
     ]
    }
   ],
   "source": [
    "#Combine two dictionaries\n",
    "\n",
    "\n",
    "a = {'x': 1, 'y': 2}\n",
    "b = {'y': 3, 'z': 4}\n",
    "combined = {**a, **b}\n",
    "print(combined)"
   ]
  },
  {
   "cell_type": "code",
   "execution_count": 108,
   "id": "1bf8134d-419d-4c3f-99f4-e0a27127101b",
   "metadata": {},
   "outputs": [
    {
     "name": "stdout",
     "output_type": "stream",
     "text": [
      "{'cherry', 'banana', 'apple'}\n"
     ]
    }
   ],
   "source": [
    "#Convert a list of strings to a set\n",
    "\n",
    "words = [\"apple\", \"banana\", \"cherry\", \"apple\"]\n",
    "unique_words = set(words)\n",
    "print(unique_words)"
   ]
  }
 ],
 "metadata": {
  "kernelspec": {
   "display_name": "Python [conda env:base] *",
   "language": "python",
   "name": "conda-base-py"
  },
  "language_info": {
   "codemirror_mode": {
    "name": "ipython",
    "version": 3
   },
   "file_extension": ".py",
   "mimetype": "text/x-python",
   "name": "python",
   "nbconvert_exporter": "python",
   "pygments_lexer": "ipython3",
   "version": "3.12.7"
  }
 },
 "nbformat": 4,
 "nbformat_minor": 5
}
